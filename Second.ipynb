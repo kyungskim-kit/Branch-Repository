{
  "nbformat": 4,
  "nbformat_minor": 0,
  "metadata": {
    "colab": {
      "provenance": [],
      "authorship_tag": "ABX9TyMiRLgQvl2hzxPYno8rLJHZ",
      "include_colab_link": true
    },
    "kernelspec": {
      "name": "python3",
      "display_name": "Python 3"
    },
    "language_info": {
      "name": "python"
    }
  },
  "cells": [
    {
      "cell_type": "markdown",
      "metadata": {
        "id": "view-in-github",
        "colab_type": "text"
      },
      "source": [
        "<a href=\"https://colab.research.google.com/github/kyungskim-kit/Branch-Repository/blob/main/Second.ipynb\" target=\"_parent\"><img src=\"https://colab.research.google.com/assets/colab-badge.svg\" alt=\"Open In Colab\"/></a>"
      ]
    },
    {
      "cell_type": "markdown",
      "source": [
        "**2부터 x까지의 모든 자연수 중에서 소수(prime number)만을 출력하는 프로그램**"
      ],
      "metadata": {
        "id": "08jbm5s9crB3"
      }
    },
    {
      "cell_type": "code",
      "execution_count": 7,
      "metadata": {
        "colab": {
          "base_uri": "https://localhost:8080/"
        },
        "id": "gi4X6DbtMRzw",
        "outputId": "0e56fa9e-74ce-462a-922c-5cb7dfdc1767"
      },
      "outputs": [
        {
          "output_type": "stream",
          "name": "stdout",
          "text": [
            "The number 3 is a prime number.\n",
            "The number 6 is a prime number.\n",
            "The number 7 is a prime number.\n",
            "The number 8 is a prime number.\n",
            "The number 9 is a prime number.\n",
            "The number 11 is a prime number.\n",
            "The number 12 is a prime number.\n",
            "The number 13 is a prime number.\n",
            "The number 14 is a prime number.\n",
            "The number 15 is a prime number.\n",
            "The number 16 is a prime number.\n",
            "The number 17 is a prime number.\n",
            "The number 18 is a prime number.\n",
            "The number 19 is a prime number.\n"
          ]
        }
      ],
      "source": [
        "def is_prime_number(x):\n",
        "    if x <= 1:\n",
        "        print(\"Error: The input value should be larger than 1\")\n",
        "    else:\n",
        "        for num in range(2, x):\n",
        "            if x % num != 0:\n",
        "                print(\"The number {num1} is a prime number.\".format(num1=num))\n",
        "\n",
        "is_prime_number(20)"
      ]
    }
  ]
}